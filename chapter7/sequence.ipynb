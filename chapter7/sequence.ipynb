{
 "cells": [
  {
   "cell_type": "code",
   "execution_count": 2,
   "metadata": {
    "collapsed": true
   },
   "outputs": [],
   "source": [
    "from nengo import spa\n",
    "import nengo"
   ]
  },
  {
   "cell_type": "code",
   "execution_count": 4,
   "outputs": [],
   "source": [
    "# Number of dimensions for the Semantic Pointers\n",
    "dim = 16\n",
    "\n",
    "# Create the spa.SPA network to which we can add SPA objects\n",
    "model = spa.SPA(label=\"Sequence\")\n",
    "with model:\n",
    "    # Creating a working memory/cortical element\n",
    "    model.state = spa.State(dimensions=dim, feedback=1, feedback_synapse=0.01)\n",
    "\n",
    "    # Specifying the action mappings (rules) for BG and Thal\n",
    "    actions = spa.Actions(\n",
    "        \"dot(state, A) --> state = B\",\n",
    "        \"dot(state, B) --> state = C\",\n",
    "        \"dot(state, C) --> state = D\",\n",
    "        \"dot(state, D) --> state = E\",\n",
    "        \"dot(state, E) --> state = A\",\n",
    "    )\n",
    "\n",
    "    # Creating the BG and thalamus components that confirm to the specified rules\n",
    "    model.bg = spa.BasalGanglia(actions=actions)\n",
    "    model.thal = spa.Thalamus(model.bg)\n",
    "\n",
    "    # Function that provides the model with an initial input semantic pointer.\n",
    "    def start(t):\n",
    "        if t < 0.1:  # Duration of the initial input = 0.1\n",
    "            return \"D\"\n",
    "        return \"0\"\n",
    "\n",
    "    # Input\n",
    "    model.input = spa.Input(state=start)"
   ],
   "metadata": {
    "collapsed": false
   }
  },
  {
   "cell_type": "code",
   "execution_count": 5,
   "outputs": [
    {
     "data": {
      "application/vdom.v1+json": {
       "tagName": "div",
       "attributes": {}
      },
      "text/html": "\n                <script>\n                    if (Jupyter.version.split(\".\")[0] < 5) {\n                        var pb = document.getElementById(\"fb3251f9-b5a0-487d-b3b2-6d392bc822a9\");\n                        var text = document.createTextNode(\n                            \"HTML progress bar requires Jupyter Notebook >= \" +\n                            \"5.0 or Jupyter Lab. Alternatively, you can use \" +\n                            \"TerminalProgressBar().\");\n                        pb.parentNode.insertBefore(text, pb);\n                    }\n                </script>\n                <div id=\"fb3251f9-b5a0-487d-b3b2-6d392bc822a9\" style=\"\n                    width: 100%;\n                    border: 1px solid #cfcfcf;\n                    border-radius: 4px;\n                    text-align: center;\n                    position: relative;\">\n                  <div class=\"pb-text\" style=\"\n                      position: absolute;\n                      width: 100%;\">\n                    0%\n                  </div>\n                  <div class=\"pb-fill\" style=\"\n                      background-color: #bdd2e6;\n                      width: 0%;\">\n                    <style type=\"text/css\" scoped=\"scoped\">\n                        @keyframes pb-fill-anim {\n                            0% { background-position: 0 0; }\n                            100% { background-position: 100px 0; }\n                        }\n                    </style>\n                    &nbsp;\n                  </div>\n                </div>",
      "text/plain": "HtmlProgressBar cannot be displayed. Please use the TerminalProgressBar. It can be enabled with `nengo.rc['progress']['progress_bar'] = 'nengo.utils.progress.TerminalProgressBar'`."
     },
     "metadata": {},
     "output_type": "display_data"
    },
    {
     "data": {
      "application/vdom.v1+json": {
       "tagName": "div",
       "attributes": {
        "id": "71328c7e-430b-4e68-be1b-f4364e9a441b",
        "style": {
         "width": "100%",
         "boxSizing": "border-box",
         "border": "1px solid #cfcfcf",
         "borderRadius": "4px",
         "textAlign": "center",
         "position": "relative"
        }
       },
       "children": [
        {
         "tagName": "div",
         "attributes": {
          "class": "pb-text",
          "style": {
           "position": "absolute",
           "width": "100%"
          }
         },
         "children": [
          "Building… 1%, ETA: 0:00:17"
         ]
        },
        {
         "tagName": "div",
         "attributes": {
          "class": "pb-fill",
          "style": {
           "width": "1%",
           "animation": "none",
           "backgroundColor": "#bdd2e6",
           "backgroundImage": "none",
           "transition": "width 0.1s linear"
          }
         },
         "children": [
          {
           "tagName": "style",
           "attributes": {
            "type": "text/css",
            "scoped": "scoped"
           },
           "children": [
            "\n                        @keyframes pb-fill-anim {\n                            0% { background-position: 0 0; }\n                            100% { background-position: 100px 0; }\n                        }}"
           ]
          },
          " "
         ]
        }
       ]
      },
      "text/html": "<script>\n              (function () {\n                  var root = document.getElementById('fb3251f9-b5a0-487d-b3b2-6d392bc822a9');\n                  var text = root.getElementsByClassName('pb-text')[0];\n                  var fill = root.getElementsByClassName('pb-fill')[0];\n\n                  text.innerHTML = 'Building&hellip; 1%, ETA: 0:00:17';\n                  \n            if (1.2012012012012012 > 0.) {\n                fill.style.transition = 'width 0.1s linear';\n            } else {\n                fill.style.transition = 'none';\n            }\n\n            fill.style.width = '1.2012012012012012%';\n            fill.style.animation = 'none';\n            fill.style.backgroundImage = 'none'\n        \n                  \n              })();\n        </script>"
     },
     "metadata": {},
     "output_type": "display_data"
    },
    {
     "name": "stderr",
     "output_type": "stream",
     "text": [
      "/Users/beep/PycharmProjects/nengoPlayground/venv/lib/python3.8/site-packages/nengo/builder/builder.py:239: UserWarning: Object <BasalGanglia \"bg\"> has already been built.\n",
      "  warnings.warn(f\"Object {obj} has already been built.\")\n",
      "/Users/beep/PycharmProjects/nengoPlayground/venv/lib/python3.8/site-packages/nengo/builder/builder.py:239: UserWarning: Object <Thalamus \"thal\"> has already been built.\n",
      "  warnings.warn(f\"Object {obj} has already been built.\")\n",
      "/Users/beep/PycharmProjects/nengoPlayground/venv/lib/python3.8/site-packages/nengo/builder/optimizer.py:654: UserWarning: Skipping some optimization steps because SciPy is not installed. Installing SciPy may result in faster simulations.\n",
      "  warnings.warn(\n"
     ]
    },
    {
     "data": {
      "application/vdom.v1+json": {
       "tagName": "div",
       "attributes": {}
      },
      "text/html": "\n                <script>\n                    if (Jupyter.version.split(\".\")[0] < 5) {\n                        var pb = document.getElementById(\"c7bb6048-ce23-4f41-b424-1fa7dfcf62a2\");\n                        var text = document.createTextNode(\n                            \"HTML progress bar requires Jupyter Notebook >= \" +\n                            \"5.0 or Jupyter Lab. Alternatively, you can use \" +\n                            \"TerminalProgressBar().\");\n                        pb.parentNode.insertBefore(text, pb);\n                    }\n                </script>\n                <div id=\"c7bb6048-ce23-4f41-b424-1fa7dfcf62a2\" style=\"\n                    width: 100%;\n                    border: 1px solid #cfcfcf;\n                    border-radius: 4px;\n                    text-align: center;\n                    position: relative;\">\n                  <div class=\"pb-text\" style=\"\n                      position: absolute;\n                      width: 100%;\">\n                    0%\n                  </div>\n                  <div class=\"pb-fill\" style=\"\n                      background-color: #bdd2e6;\n                      width: 0%;\">\n                    <style type=\"text/css\" scoped=\"scoped\">\n                        @keyframes pb-fill-anim {\n                            0% { background-position: 0 0; }\n                            100% { background-position: 100px 0; }\n                        }\n                    </style>\n                    &nbsp;\n                  </div>\n                </div>",
      "text/plain": "HtmlProgressBar cannot be displayed. Please use the TerminalProgressBar. It can be enabled with `nengo.rc['progress']['progress_bar'] = 'nengo.utils.progress.TerminalProgressBar'`."
     },
     "metadata": {},
     "output_type": "display_data"
    },
    {
     "data": {
      "application/vdom.v1+json": {
       "tagName": "div",
       "attributes": {
        "id": "b095cd34-75b1-49f6-b574-ac37bb5ce6d1",
        "style": {
         "width": "100%",
         "boxSizing": "border-box",
         "border": "1px solid #cfcfcf",
         "borderRadius": "4px",
         "textAlign": "center",
         "position": "relative"
        }
       },
       "children": [
        {
         "tagName": "div",
         "attributes": {
          "class": "pb-text",
          "style": {
           "position": "absolute",
           "width": "100%"
          }
         },
         "children": [
          "Simulation finished in 0:00:01."
         ]
        },
        {
         "tagName": "div",
         "attributes": {
          "class": "pb-fill",
          "style": {
           "width": "100%",
           "animation": "none",
           "backgroundColor": "#bdd2e6",
           "backgroundImage": "none",
           "transition": "width 0.1s linear"
          }
         },
         "children": [
          {
           "tagName": "style",
           "attributes": {
            "type": "text/css",
            "scoped": "scoped"
           },
           "children": [
            "\n                        @keyframes pb-fill-anim {\n                            0% { background-position: 0 0; }\n                            100% { background-position: 100px 0; }\n                        }}"
           ]
          },
          " "
         ]
        }
       ]
      },
      "text/html": "<script>\n              (function () {\n                  var root = document.getElementById('c7bb6048-ce23-4f41-b424-1fa7dfcf62a2');\n                  var text = root.getElementsByClassName('pb-text')[0];\n                  var fill = root.getElementsByClassName('pb-fill')[0];\n\n                  text.innerHTML = 'Simulation finished in 0:00:01.';\n                  \n            if (100.0 > 0.) {\n                fill.style.transition = 'width 0.1s linear';\n            } else {\n                fill.style.transition = 'none';\n            }\n\n            fill.style.width = '100.0%';\n            fill.style.animation = 'none';\n            fill.style.backgroundImage = 'none'\n        \n                  \n                fill.style.animation = 'none';\n                fill.style.backgroundImage = 'none';\n            \n              })();\n        </script>"
     },
     "metadata": {},
     "output_type": "display_data"
    }
   ],
   "source": [
    "with nengo.Simulator(model) as sim:\n",
    "    sim.run(1)"
   ],
   "metadata": {
    "collapsed": false
   }
  },
  {
   "cell_type": "code",
   "execution_count": 12,
   "outputs": [
    {
     "ename": "ValidationError",
     "evalue": "Probe.target: Type 'EnsembleArray' is not probeable",
     "output_type": "error",
     "traceback": [
      "\u001B[0;31m---------------------------------------------------------------------------\u001B[0m",
      "\u001B[0;31mValidationError\u001B[0m                           Traceback (most recent call last)",
      "    \u001B[0;31m[... skipping hidden 1 frame]\u001B[0m\n",
      "Cell \u001B[0;32mIn[12], line 1\u001B[0m\n\u001B[0;32m----> 1\u001B[0m \u001B[43mnengo\u001B[49m\u001B[38;5;241;43m.\u001B[39;49m\u001B[43mProbe\u001B[49m\u001B[43m(\u001B[49m\u001B[43mmodel\u001B[49m\u001B[38;5;241;43m.\u001B[39;49m\u001B[43mbg\u001B[49m\u001B[38;5;241;43m.\u001B[39;49m\u001B[43mnetworks\u001B[49m\u001B[43m[\u001B[49m\u001B[38;5;241;43m0\u001B[39;49m\u001B[43m]\u001B[49m\u001B[43m)\u001B[49m\n",
      "File \u001B[0;32m~/PycharmProjects/nengoPlayground/venv/lib/python3.8/site-packages/nengo/base.py:35\u001B[0m, in \u001B[0;36mNetworkMember.__call__\u001B[0;34m(cls, *args, **kwargs)\u001B[0m\n\u001B[1;32m     34\u001B[0m \u001B[38;5;66;03m# Do the __init__ before adding in case __init__ errors out\u001B[39;00m\n\u001B[0;32m---> 35\u001B[0m \u001B[43minst\u001B[49m\u001B[38;5;241;43m.\u001B[39;49m\u001B[38;5;21;43m__init__\u001B[39;49m\u001B[43m(\u001B[49m\u001B[38;5;241;43m*\u001B[39;49m\u001B[43margs\u001B[49m\u001B[43m,\u001B[49m\u001B[43m \u001B[49m\u001B[38;5;241;43m*\u001B[39;49m\u001B[38;5;241;43m*\u001B[39;49m\u001B[43mkwargs\u001B[49m\u001B[43m)\u001B[49m\n\u001B[1;32m     36\u001B[0m \u001B[38;5;28;01mif\u001B[39;00m add_to_container:\n",
      "File \u001B[0;32m~/PycharmProjects/nengoPlayground/venv/lib/python3.8/site-packages/nengo/probe.py:132\u001B[0m, in \u001B[0;36mProbe.__init__\u001B[0;34m(self, target, attr, sample_every, synapse, solver, label, seed)\u001B[0m\n\u001B[1;32m    131\u001B[0m \u001B[38;5;28msuper\u001B[39m()\u001B[38;5;241m.\u001B[39m\u001B[38;5;21m__init__\u001B[39m(label\u001B[38;5;241m=\u001B[39mlabel, seed\u001B[38;5;241m=\u001B[39mseed)\n\u001B[0;32m--> 132\u001B[0m \u001B[38;5;28;43mself\u001B[39;49m\u001B[38;5;241;43m.\u001B[39;49m\u001B[43mtarget\u001B[49m \u001B[38;5;241m=\u001B[39m target\n\u001B[1;32m    133\u001B[0m \u001B[38;5;28mself\u001B[39m\u001B[38;5;241m.\u001B[39mattr \u001B[38;5;241m=\u001B[39m attr \u001B[38;5;28;01mif\u001B[39;00m attr \u001B[38;5;129;01mis\u001B[39;00m \u001B[38;5;129;01mnot\u001B[39;00m \u001B[38;5;28;01mNone\u001B[39;00m \u001B[38;5;28;01melse\u001B[39;00m \u001B[38;5;28mself\u001B[39m\u001B[38;5;241m.\u001B[39mobj\u001B[38;5;241m.\u001B[39mprobeable[\u001B[38;5;241m0\u001B[39m]\n",
      "File \u001B[0;32m~/PycharmProjects/nengoPlayground/venv/lib/python3.8/site-packages/nengo/base.py:110\u001B[0m, in \u001B[0;36mNengoObject.__setattr__\u001B[0;34m(self, name, val)\u001B[0m\n\u001B[1;32m    105\u001B[0m     warnings\u001B[38;5;241m.\u001B[39mwarn(\n\u001B[1;32m    106\u001B[0m         \u001B[38;5;124mf\u001B[39m\u001B[38;5;124m\"\u001B[39m\u001B[38;5;124mCreating new attribute \u001B[39m\u001B[38;5;124m'\u001B[39m\u001B[38;5;132;01m{\u001B[39;00mname\u001B[38;5;132;01m}\u001B[39;00m\u001B[38;5;124m'\u001B[39m\u001B[38;5;124m on \u001B[39m\u001B[38;5;124m'\u001B[39m\u001B[38;5;132;01m{\u001B[39;00m\u001B[38;5;28mself\u001B[39m\u001B[38;5;132;01m}\u001B[39;00m\u001B[38;5;124m'\u001B[39m\u001B[38;5;124m. \u001B[39m\u001B[38;5;124m\"\u001B[39m\n\u001B[1;32m    107\u001B[0m         \u001B[38;5;124m\"\u001B[39m\u001B[38;5;124mDid you mean to change an existing attribute?\u001B[39m\u001B[38;5;124m\"\u001B[39m,\n\u001B[1;32m    108\u001B[0m         \u001B[38;5;167;01mSyntaxWarning\u001B[39;00m,\n\u001B[1;32m    109\u001B[0m     )\n\u001B[0;32m--> 110\u001B[0m \u001B[38;5;28;43msuper\u001B[39;49m\u001B[43m(\u001B[49m\u001B[43m)\u001B[49m\u001B[38;5;241;43m.\u001B[39;49m\u001B[38;5;21;43m__setattr__\u001B[39;49m\u001B[43m(\u001B[49m\u001B[43mname\u001B[49m\u001B[43m,\u001B[49m\u001B[43m \u001B[49m\u001B[43mval\u001B[49m\u001B[43m)\u001B[49m\n",
      "File \u001B[0;32m~/PycharmProjects/nengoPlayground/venv/lib/python3.8/site-packages/nengo/config.py:487\u001B[0m, in \u001B[0;36mSupportDefaultsMixin.__setattr__\u001B[0;34m(self, name, val)\u001B[0m\n\u001B[1;32m    486\u001B[0m         exc_info \u001B[38;5;241m=\u001B[39m sys\u001B[38;5;241m.\u001B[39mexc_info()\n\u001B[0;32m--> 487\u001B[0m         \u001B[38;5;28;01mraise\u001B[39;00m exc_info[\u001B[38;5;241m1\u001B[39m]\u001B[38;5;241m.\u001B[39mwith_traceback(\u001B[38;5;28;01mNone\u001B[39;00m) \u001B[38;5;28;01mfrom\u001B[39;00m \u001B[38;5;21;01me\u001B[39;00m\n\u001B[1;32m    488\u001B[0m \u001B[38;5;28;01melse\u001B[39;00m:\n",
      "\u001B[0;31mValidationError\u001B[0m: Probe.target: Type 'EnsembleArray' is not probeable",
      "\nThe above exception was the direct cause of the following exception:\n",
      "\u001B[0;31mValidationError\u001B[0m                           Traceback (most recent call last)",
      "    \u001B[0;31m[... skipping hidden 1 frame]\u001B[0m\n",
      "Cell \u001B[0;32mIn[12], line 1\u001B[0m\n\u001B[0;32m----> 1\u001B[0m \u001B[43mnengo\u001B[49m\u001B[38;5;241;43m.\u001B[39;49m\u001B[43mProbe\u001B[49m\u001B[43m(\u001B[49m\u001B[43mmodel\u001B[49m\u001B[38;5;241;43m.\u001B[39;49m\u001B[43mbg\u001B[49m\u001B[38;5;241;43m.\u001B[39;49m\u001B[43mnetworks\u001B[49m\u001B[43m[\u001B[49m\u001B[38;5;241;43m0\u001B[39;49m\u001B[43m]\u001B[49m\u001B[43m)\u001B[49m\n",
      "File \u001B[0;32m~/PycharmProjects/nengoPlayground/venv/lib/python3.8/site-packages/nengo/base.py:35\u001B[0m, in \u001B[0;36mNetworkMember.__call__\u001B[0;34m(cls, *args, **kwargs)\u001B[0m\n\u001B[1;32m     34\u001B[0m \u001B[38;5;66;03m# Do the __init__ before adding in case __init__ errors out\u001B[39;00m\n\u001B[0;32m---> 35\u001B[0m \u001B[43minst\u001B[49m\u001B[38;5;241;43m.\u001B[39;49m\u001B[38;5;21;43m__init__\u001B[39;49m\u001B[43m(\u001B[49m\u001B[38;5;241;43m*\u001B[39;49m\u001B[43margs\u001B[49m\u001B[43m,\u001B[49m\u001B[43m \u001B[49m\u001B[38;5;241;43m*\u001B[39;49m\u001B[38;5;241;43m*\u001B[39;49m\u001B[43mkwargs\u001B[49m\u001B[43m)\u001B[49m\n\u001B[1;32m     36\u001B[0m \u001B[38;5;28;01mif\u001B[39;00m add_to_container:\n",
      "File \u001B[0;32m~/PycharmProjects/nengoPlayground/venv/lib/python3.8/site-packages/nengo/probe.py:132\u001B[0m, in \u001B[0;36mProbe.__init__\u001B[0;34m(self, target, attr, sample_every, synapse, solver, label, seed)\u001B[0m\n\u001B[1;32m    131\u001B[0m \u001B[38;5;28msuper\u001B[39m()\u001B[38;5;241m.\u001B[39m\u001B[38;5;21m__init__\u001B[39m(label\u001B[38;5;241m=\u001B[39mlabel, seed\u001B[38;5;241m=\u001B[39mseed)\n\u001B[0;32m--> 132\u001B[0m \u001B[38;5;28;43mself\u001B[39;49m\u001B[38;5;241;43m.\u001B[39;49m\u001B[43mtarget\u001B[49m \u001B[38;5;241m=\u001B[39m target\n\u001B[1;32m    133\u001B[0m \u001B[38;5;28mself\u001B[39m\u001B[38;5;241m.\u001B[39mattr \u001B[38;5;241m=\u001B[39m attr \u001B[38;5;28;01mif\u001B[39;00m attr \u001B[38;5;129;01mis\u001B[39;00m \u001B[38;5;129;01mnot\u001B[39;00m \u001B[38;5;28;01mNone\u001B[39;00m \u001B[38;5;28;01melse\u001B[39;00m \u001B[38;5;28mself\u001B[39m\u001B[38;5;241m.\u001B[39mobj\u001B[38;5;241m.\u001B[39mprobeable[\u001B[38;5;241m0\u001B[39m]\n",
      "File \u001B[0;32m~/PycharmProjects/nengoPlayground/venv/lib/python3.8/site-packages/nengo/base.py:110\u001B[0m, in \u001B[0;36mNengoObject.__setattr__\u001B[0;34m(self, name, val)\u001B[0m\n\u001B[1;32m    105\u001B[0m     warnings\u001B[38;5;241m.\u001B[39mwarn(\n\u001B[1;32m    106\u001B[0m         \u001B[38;5;124mf\u001B[39m\u001B[38;5;124m\"\u001B[39m\u001B[38;5;124mCreating new attribute \u001B[39m\u001B[38;5;124m'\u001B[39m\u001B[38;5;132;01m{\u001B[39;00mname\u001B[38;5;132;01m}\u001B[39;00m\u001B[38;5;124m'\u001B[39m\u001B[38;5;124m on \u001B[39m\u001B[38;5;124m'\u001B[39m\u001B[38;5;132;01m{\u001B[39;00m\u001B[38;5;28mself\u001B[39m\u001B[38;5;132;01m}\u001B[39;00m\u001B[38;5;124m'\u001B[39m\u001B[38;5;124m. \u001B[39m\u001B[38;5;124m\"\u001B[39m\n\u001B[1;32m    107\u001B[0m         \u001B[38;5;124m\"\u001B[39m\u001B[38;5;124mDid you mean to change an existing attribute?\u001B[39m\u001B[38;5;124m\"\u001B[39m,\n\u001B[1;32m    108\u001B[0m         \u001B[38;5;167;01mSyntaxWarning\u001B[39;00m,\n\u001B[1;32m    109\u001B[0m     )\n\u001B[0;32m--> 110\u001B[0m \u001B[38;5;28;43msuper\u001B[39;49m\u001B[43m(\u001B[49m\u001B[43m)\u001B[49m\u001B[38;5;241;43m.\u001B[39;49m\u001B[38;5;21;43m__setattr__\u001B[39;49m\u001B[43m(\u001B[49m\u001B[43mname\u001B[49m\u001B[43m,\u001B[49m\u001B[43m \u001B[49m\u001B[43mval\u001B[49m\u001B[43m)\u001B[49m\n",
      "File \u001B[0;32m~/PycharmProjects/nengoPlayground/venv/lib/python3.8/site-packages/nengo/config.py:487\u001B[0m, in \u001B[0;36mSupportDefaultsMixin.__setattr__\u001B[0;34m(self, name, val)\u001B[0m\n\u001B[1;32m    486\u001B[0m         exc_info \u001B[38;5;241m=\u001B[39m sys\u001B[38;5;241m.\u001B[39mexc_info()\n\u001B[0;32m--> 487\u001B[0m         \u001B[38;5;28;01mraise\u001B[39;00m exc_info[\u001B[38;5;241m1\u001B[39m]\u001B[38;5;241m.\u001B[39mwith_traceback(\u001B[38;5;28;01mNone\u001B[39;00m) \u001B[38;5;28;01mfrom\u001B[39;00m \u001B[38;5;21;01me\u001B[39;00m\n\u001B[1;32m    488\u001B[0m \u001B[38;5;28;01melse\u001B[39;00m:\n",
      "\u001B[0;31mValidationError\u001B[0m: Probe.target: Type 'EnsembleArray' is not probeable",
      "\nThe above exception was the direct cause of the following exception:\n",
      "\u001B[0;31mValidationError\u001B[0m                           Traceback (most recent call last)",
      "Cell \u001B[0;32mIn[12], line 1\u001B[0m\n\u001B[0;32m----> 1\u001B[0m \u001B[43mnengo\u001B[49m\u001B[38;5;241;43m.\u001B[39;49m\u001B[43mProbe\u001B[49m\u001B[43m(\u001B[49m\u001B[43mmodel\u001B[49m\u001B[38;5;241;43m.\u001B[39;49m\u001B[43mbg\u001B[49m\u001B[38;5;241;43m.\u001B[39;49m\u001B[43mnetworks\u001B[49m\u001B[43m[\u001B[49m\u001B[38;5;241;43m0\u001B[39;49m\u001B[43m]\u001B[49m\u001B[43m)\u001B[49m\n",
      "File \u001B[0;32m~/PycharmProjects/nengoPlayground/venv/lib/python3.8/site-packages/nengo/base.py:35\u001B[0m, in \u001B[0;36mNetworkMember.__call__\u001B[0;34m(cls, *args, **kwargs)\u001B[0m\n\u001B[1;32m     33\u001B[0m add_to_container \u001B[38;5;241m=\u001B[39m kwargs\u001B[38;5;241m.\u001B[39mpop(\u001B[38;5;124m\"\u001B[39m\u001B[38;5;124madd_to_container\u001B[39m\u001B[38;5;124m\"\u001B[39m, \u001B[38;5;28;01mTrue\u001B[39;00m)\n\u001B[1;32m     34\u001B[0m \u001B[38;5;66;03m# Do the __init__ before adding in case __init__ errors out\u001B[39;00m\n\u001B[0;32m---> 35\u001B[0m \u001B[43minst\u001B[49m\u001B[38;5;241;43m.\u001B[39;49m\u001B[38;5;21;43m__init__\u001B[39;49m\u001B[43m(\u001B[49m\u001B[38;5;241;43m*\u001B[39;49m\u001B[43margs\u001B[49m\u001B[43m,\u001B[49m\u001B[43m \u001B[49m\u001B[38;5;241;43m*\u001B[39;49m\u001B[38;5;241;43m*\u001B[39;49m\u001B[43mkwargs\u001B[49m\u001B[43m)\u001B[49m\n\u001B[1;32m     36\u001B[0m \u001B[38;5;28;01mif\u001B[39;00m add_to_container:\n\u001B[1;32m     37\u001B[0m     nengo\u001B[38;5;241m.\u001B[39mNetwork\u001B[38;5;241m.\u001B[39madd(inst)\n",
      "File \u001B[0;32m~/PycharmProjects/nengoPlayground/venv/lib/python3.8/site-packages/nengo/probe.py:132\u001B[0m, in \u001B[0;36mProbe.__init__\u001B[0;34m(self, target, attr, sample_every, synapse, solver, label, seed)\u001B[0m\n\u001B[1;32m    121\u001B[0m \u001B[38;5;28;01mdef\u001B[39;00m \u001B[38;5;21m__init__\u001B[39m(\n\u001B[1;32m    122\u001B[0m     \u001B[38;5;28mself\u001B[39m,\n\u001B[1;32m    123\u001B[0m     target,\n\u001B[0;32m   (...)\u001B[0m\n\u001B[1;32m    129\u001B[0m     seed\u001B[38;5;241m=\u001B[39mDefault,\n\u001B[1;32m    130\u001B[0m ):\n\u001B[1;32m    131\u001B[0m     \u001B[38;5;28msuper\u001B[39m()\u001B[38;5;241m.\u001B[39m\u001B[38;5;21m__init__\u001B[39m(label\u001B[38;5;241m=\u001B[39mlabel, seed\u001B[38;5;241m=\u001B[39mseed)\n\u001B[0;32m--> 132\u001B[0m     \u001B[38;5;28;43mself\u001B[39;49m\u001B[38;5;241;43m.\u001B[39;49m\u001B[43mtarget\u001B[49m \u001B[38;5;241m=\u001B[39m target\n\u001B[1;32m    133\u001B[0m     \u001B[38;5;28mself\u001B[39m\u001B[38;5;241m.\u001B[39mattr \u001B[38;5;241m=\u001B[39m attr \u001B[38;5;28;01mif\u001B[39;00m attr \u001B[38;5;129;01mis\u001B[39;00m \u001B[38;5;129;01mnot\u001B[39;00m \u001B[38;5;28;01mNone\u001B[39;00m \u001B[38;5;28;01melse\u001B[39;00m \u001B[38;5;28mself\u001B[39m\u001B[38;5;241m.\u001B[39mobj\u001B[38;5;241m.\u001B[39mprobeable[\u001B[38;5;241m0\u001B[39m]\n\u001B[1;32m    134\u001B[0m     \u001B[38;5;28mself\u001B[39m\u001B[38;5;241m.\u001B[39msample_every \u001B[38;5;241m=\u001B[39m sample_every\n",
      "File \u001B[0;32m~/PycharmProjects/nengoPlayground/venv/lib/python3.8/site-packages/nengo/base.py:110\u001B[0m, in \u001B[0;36mNengoObject.__setattr__\u001B[0;34m(self, name, val)\u001B[0m\n\u001B[1;32m    104\u001B[0m \u001B[38;5;28;01mif\u001B[39;00m initialized \u001B[38;5;129;01mand\u001B[39;00m \u001B[38;5;129;01mnot\u001B[39;00m \u001B[38;5;28mhasattr\u001B[39m(\u001B[38;5;28mself\u001B[39m, name):\n\u001B[1;32m    105\u001B[0m     warnings\u001B[38;5;241m.\u001B[39mwarn(\n\u001B[1;32m    106\u001B[0m         \u001B[38;5;124mf\u001B[39m\u001B[38;5;124m\"\u001B[39m\u001B[38;5;124mCreating new attribute \u001B[39m\u001B[38;5;124m'\u001B[39m\u001B[38;5;132;01m{\u001B[39;00mname\u001B[38;5;132;01m}\u001B[39;00m\u001B[38;5;124m'\u001B[39m\u001B[38;5;124m on \u001B[39m\u001B[38;5;124m'\u001B[39m\u001B[38;5;132;01m{\u001B[39;00m\u001B[38;5;28mself\u001B[39m\u001B[38;5;132;01m}\u001B[39;00m\u001B[38;5;124m'\u001B[39m\u001B[38;5;124m. \u001B[39m\u001B[38;5;124m\"\u001B[39m\n\u001B[1;32m    107\u001B[0m         \u001B[38;5;124m\"\u001B[39m\u001B[38;5;124mDid you mean to change an existing attribute?\u001B[39m\u001B[38;5;124m\"\u001B[39m,\n\u001B[1;32m    108\u001B[0m         \u001B[38;5;167;01mSyntaxWarning\u001B[39;00m,\n\u001B[1;32m    109\u001B[0m     )\n\u001B[0;32m--> 110\u001B[0m \u001B[38;5;28;43msuper\u001B[39;49m\u001B[43m(\u001B[49m\u001B[43m)\u001B[49m\u001B[38;5;241;43m.\u001B[39;49m\u001B[38;5;21;43m__setattr__\u001B[39;49m\u001B[43m(\u001B[49m\u001B[43mname\u001B[49m\u001B[43m,\u001B[49m\u001B[43m \u001B[49m\u001B[43mval\u001B[49m\u001B[43m)\u001B[49m\n",
      "File \u001B[0;32m~/PycharmProjects/nengoPlayground/venv/lib/python3.8/site-packages/nengo/config.py:487\u001B[0m, in \u001B[0;36mSupportDefaultsMixin.__setattr__\u001B[0;34m(self, name, val)\u001B[0m\n\u001B[1;32m    485\u001B[0m     \u001B[38;5;28;01mexcept\u001B[39;00m ValidationError \u001B[38;5;28;01mas\u001B[39;00m e:\n\u001B[1;32m    486\u001B[0m         exc_info \u001B[38;5;241m=\u001B[39m sys\u001B[38;5;241m.\u001B[39mexc_info()\n\u001B[0;32m--> 487\u001B[0m         \u001B[38;5;28;01mraise\u001B[39;00m exc_info[\u001B[38;5;241m1\u001B[39m]\u001B[38;5;241m.\u001B[39mwith_traceback(\u001B[38;5;28;01mNone\u001B[39;00m) \u001B[38;5;28;01mfrom\u001B[39;00m \u001B[38;5;21;01me\u001B[39;00m\n\u001B[1;32m    488\u001B[0m \u001B[38;5;28;01melse\u001B[39;00m:\n\u001B[1;32m    489\u001B[0m     \u001B[38;5;28msuper\u001B[39m()\u001B[38;5;241m.\u001B[39m\u001B[38;5;21m__setattr__\u001B[39m(name, val)\n",
      "\u001B[0;31mValidationError\u001B[0m: Probe.target: Type 'EnsembleArray' is not probeable"
     ]
    }
   ],
   "source": [
    "nengo.Probe(model.bg.networks[0])"
   ],
   "metadata": {
    "collapsed": false
   }
  },
  {
   "cell_type": "code",
   "execution_count": 13,
   "outputs": [
    {
     "data": {
      "text/plain": "[<Ensemble 'Striatal D1 neurons_0' at 0x124a1f970>,\n <Ensemble 'Striatal D1 neurons_1' at 0x127846cd0>,\n <Ensemble 'Striatal D1 neurons_2' at 0x1340cb160>,\n <Ensemble 'Striatal D1 neurons_3' at 0x1340cb310>,\n <Ensemble 'Striatal D1 neurons_4' at 0x1340cb490>]"
     },
     "execution_count": 13,
     "metadata": {},
     "output_type": "execute_result"
    }
   ],
   "source": [
    "model.bg.networks[0].all_ensembles"
   ],
   "metadata": {
    "collapsed": false
   }
  },
  {
   "cell_type": "code",
   "execution_count": null,
   "outputs": [],
   "source": [],
   "metadata": {
    "collapsed": false
   }
  }
 ],
 "metadata": {
  "kernelspec": {
   "display_name": "Python 3",
   "language": "python",
   "name": "python3"
  },
  "language_info": {
   "codemirror_mode": {
    "name": "ipython",
    "version": 2
   },
   "file_extension": ".py",
   "mimetype": "text/x-python",
   "name": "python",
   "nbconvert_exporter": "python",
   "pygments_lexer": "ipython2",
   "version": "2.7.6"
  }
 },
 "nbformat": 4,
 "nbformat_minor": 0
}
