{
 "cells": [
  {
   "cell_type": "code",
   "execution_count": 2,
   "metadata": {
    "collapsed": true
   },
   "outputs": [],
   "source": [
    "import matplotlib.pyplot as plt\n",
    "import numpy as np\n",
    "import nengo\n",
    "from nengo.spa import Vocabulary"
   ]
  },
  {
   "cell_type": "code",
   "execution_count": 3,
   "outputs": [],
   "source": [
    "dim = 20\n",
    "popsize = 300\n",
    "rng = np.random.RandomState(0) # random number generator\n",
    "\n",
    "model = nengo.Network('Structured Representation')\n",
    "vocab = Vocabulary(dimensions=dim,rng=rng)"
   ],
   "metadata": {
    "collapsed": false
   }
  },
  {
   "cell_type": "code",
   "execution_count": 4,
   "outputs": [],
   "source": [
    "with model:\n",
    "    # Input - Get the raw vectors for the pointers using `vocab['A'].v`\n",
    "    input_A = nengo.Node(output=vocab[\"A\"].v, label=\"Input A\")\n",
    "    input_B = nengo.Node(output=vocab[\"B\"].v, label=\"Input B\")"
   ],
   "metadata": {
    "collapsed": false
   }
  },
  {
   "cell_type": "code",
   "execution_count": 5,
   "outputs": [
    {
     "data": {
      "text/plain": "0.1"
     },
     "execution_count": 5,
     "metadata": {},
     "output_type": "execute_result"
    }
   ],
   "source": [
    "vocab.max_similarity"
   ],
   "metadata": {
    "collapsed": false
   }
  },
  {
   "cell_type": "code",
   "execution_count": 6,
   "outputs": [
    {
     "data": {
      "text/plain": "['A', 'B']"
     },
     "execution_count": 6,
     "metadata": {},
     "output_type": "execute_result"
    }
   ],
   "source": [
    "vocab.keys"
   ],
   "metadata": {
    "collapsed": false
   }
  },
  {
   "cell_type": "code",
   "execution_count": 7,
   "outputs": [
    {
     "data": {
      "text/plain": "array([ 0.3855076 ,  0.08744845,  0.21388874,  0.48971413,  0.40812723,\n       -0.21356965,  0.2076278 , -0.03307688, -0.02255696,  0.08973024,\n        0.0314786 ,  0.31781001,  0.16631356,  0.02659028,  0.09699976,\n        0.0729196 ,  0.32650893, -0.04483431,  0.06841632, -0.18665002])"
     },
     "execution_count": 7,
     "metadata": {},
     "output_type": "execute_result"
    }
   ],
   "source": [
    "vocab[\"A\"].v"
   ],
   "metadata": {
    "collapsed": false
   }
  },
  {
   "cell_type": "code",
   "execution_count": 8,
   "outputs": [],
   "source": [
    "with model:\n",
    "    # Ensembles with 300 neurons and 20 dimensions\n",
    "    # Represents input_A\n",
    "    ens_A = nengo.Ensemble(popsize, dimensions=dim, label=\"A\")\n",
    "    # Represents input_B\n",
    "    ens_B = nengo.Ensemble(popsize, dimensions=dim, label=\"B\")\n",
    "    # Represents the convolution of A and B\n",
    "    ens_C = nengo.Ensemble(popsize, dimensions=dim, label=\"C\")\n",
    "    # Represents the sum of A and B\n",
    "    ens_sum = nengo.Ensemble(popsize, dimensions=dim, label=\"Sum\")\n",
    "\n",
    "    # Creating the circular convolution network with 70 neurons per dimension\n",
    "    # n_neurons = number of neurons to use in each prod computation\n",
    "    net_bind = nengo.networks.CircularConvolution(n_neurons=70, dimensions=dim, label=\"Bind\")\n"
   ],
   "metadata": {
    "collapsed": false
   }
  },
  {
   "cell_type": "code",
   "execution_count": 9,
   "outputs": [
    {
     "ename": "SyntaxError",
     "evalue": "invalid syntax (3759397885.py, line 1)",
     "output_type": "error",
     "traceback": [
      "\u001B[0;36m  Cell \u001B[0;32mIn[9], line 1\u001B[0;36m\u001B[0m\n\u001B[0;31m    net_bind.\u001B[0m\n\u001B[0m             ^\u001B[0m\n\u001B[0;31mSyntaxError\u001B[0m\u001B[0;31m:\u001B[0m invalid syntax\n"
     ]
    }
   ],
   "source": [
    "net_bind."
   ],
   "metadata": {
    "collapsed": false
   }
  },
  {
   "cell_type": "code",
   "execution_count": null,
   "outputs": [],
   "source": [],
   "metadata": {
    "collapsed": false
   }
  }
 ],
 "metadata": {
  "kernelspec": {
   "display_name": "Python 3",
   "language": "python",
   "name": "python3"
  },
  "language_info": {
   "codemirror_mode": {
    "name": "ipython",
    "version": 2
   },
   "file_extension": ".py",
   "mimetype": "text/x-python",
   "name": "python",
   "nbconvert_exporter": "python",
   "pygments_lexer": "ipython2",
   "version": "2.7.6"
  }
 },
 "nbformat": 4,
 "nbformat_minor": 0
}
